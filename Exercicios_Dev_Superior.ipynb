{
  "cells": [
    {
      "cell_type": "markdown",
      "metadata": {
        "id": "pR_MB0j1dQ2T"
      },
      "source": [
        "Problema \"media_idades\"\n",
        "\n",
        "Faça um programa para ler um número indeterminado de dados, contendo cada um, a idade de um\n",
        "indivíduo. O último dado, que não entrará nos cálculos, contém um valor de idade negativa. Calcular\n",
        "e imprimir a idade média deste grupo de indivíduos. Se for entrado um valor negativo na primeira vez,\n",
        "mostrar a mensagem \"IMPOSSIVEL CALCULAR\"."
      ]
    },
    {
      "cell_type": "code",
      "execution_count": null,
      "metadata": {
        "id": "Ub-vkQp-MYzu"
      },
      "outputs": [],
      "source": [
        "soma = 0\n",
        "contIdades = 0\n",
        "\n",
        "print(\"Digite as idades:\")\n",
        "idade = int(input())\n",
        "\n",
        "if idade < 0:\n",
        "  print(\"IMPOSSIVEL CALCULAR\")\n",
        "else:\n",
        "  while idade >= 0:\n",
        "    soma = soma + idade\n",
        "    contIdades = contIdades + 1\n",
        "\n",
        "    idade = int(input())\n",
        "\n",
        "  media = soma / contIdades\n",
        "  print(f\"MEDIA = {media}\")\n"
      ]
    },
    {
      "cell_type": "markdown",
      "metadata": {
        "id": "z7lXl-nedSb6"
      },
      "source": [
        "Problema \"senha_fixa\"\n",
        "\n",
        "Escreva um programa que repita a leitura de uma senha até que ela seja válida. Para cada leitura de\n",
        "senha incorreta informada, escrever a mensagem \"Senha Invalida! Tente novamente:\". Quando a senha\n",
        "for informada corretamente deve ser impressa a mensagem \"Acesso Permitido\" e o algoritmo\n",
        "encerrado. Considere que a senha correta é o valor 2002."
      ]
    },
    {
      "cell_type": "code",
      "execution_count": null,
      "metadata": {
        "id": "plkr1w0sUxP-"
      },
      "outputs": [],
      "source": [
        "senhaCerta = 2002\n",
        "\n",
        "senha = int(input(\"Digite a senha: \"))\n",
        "\n",
        "while senha != senhaCerta:\n",
        "  senha = int(input(\"Senha Invalida! Tente novamente: \"))\n",
        "\n",
        "if senha == senhaCerta:\n",
        "    print(\"ACESSO PERMITIDO!!\")\n"
      ]
    },
    {
      "cell_type": "markdown",
      "metadata": {
        "id": "dY2sC9an-3mG"
      },
      "source": [
        "Problema \"quadrante\"\n",
        "\n",
        "Escreva um programa para ler as coordenadas (X,Y) de uma quantidade indeterminada de pontos no\n",
        "sistema cartesiano. Para cada ponto escrever o quadrante a que ele pertence (Q1, Q2, Q3 ou Q4). O\n",
        "algoritmo será encerrado quando pelo menos uma de duas coordenadas for NULA (nesta situação sem\n",
        "escrever mensagem alguma)."
      ]
    },
    {
      "cell_type": "code",
      "execution_count": null,
      "metadata": {
        "id": "AE4PaREa-4Wb"
      },
      "outputs": [],
      "source": [
        "print(\"Digite os valores das coordenadas X e Y:\")\n",
        "x = int(input())\n",
        "y = int(input())\n",
        "\n",
        "while (x != 0) and (y != 0):\n",
        "  if (x > 0) and (y > 0):\n",
        "    print(\"QUADRANTE Q1\")\n",
        "  elif (x < 0) and (y > 0):\n",
        "    print(\"QUADRANTE Q2\")\n",
        "  elif (x < 0) and (y < 0):\n",
        "    print(\"QUADRANTE Q3\")\n",
        "  else:\n",
        "    print(\"QUADRANTE Q4\")\n",
        "\n",
        "  print(\"Digite os valores das coordenadas X e Y:\")\n",
        "  x = int(input())\n",
        "  y = int(input())"
      ]
    },
    {
      "cell_type": "markdown",
      "metadata": {
        "id": "e0nvgD6zCnQY"
      },
      "source": [
        "Problema \"validacao_de_nota\"\n",
        "\n",
        "Faça um programa que leia as notas referentes às duas avaliações de um aluno. Calcule e imprima a\n",
        "média semestral. Faça com que o algoritmo só aceite notas válidas (uma nota válida deve pertencer ao\n",
        "intervalo [0,10]). Cada nota deve ser validada separadamente."
      ]
    },
    {
      "cell_type": "code",
      "execution_count": null,
      "metadata": {
        "id": "AISxladOCsL5"
      },
      "outputs": [],
      "source": [
        "\n",
        "nota1 = float(input(\"Digite a primeira nota: \"))\n",
        "while (nota1 < 0) or (nota1 > 10):\n",
        "    nota1 = float(input(\"Valor invalido! Tente novamente: \"))\n",
        "\n",
        "nota2 = float(input(\"Digite a segunda nota: \"))\n",
        "while (nota2 < 0) or (nota2 > 10):\n",
        "    nota2 = float(input(\"Valor invalido! Tente novamente: \"))\n",
        "\n",
        "\n",
        "media = (nota1 + nota2) / 2\n",
        "print(f\"MEDIA = {media:.2f}\")"
      ]
    },
    {
      "cell_type": "markdown",
      "metadata": {
        "id": "c6n-dsTtJfjR"
      },
      "source": [
        "Problema \"combustivel\"\n",
        "\n",
        "Um posto de combustíveis deseja determinar qual de seus produtos tem a preferência de seus clientes.\n",
        "Escreva um algoritmo para ler o tipo de combustível abastecido (codificado da seguinte forma:\n",
        "1.Álcool 2.Gasolina 3.Diesel 4.Fim). Caso o usuário informe um código inválido (fora da faixa de 1 a\n",
        "4) deve ser solicitado um novo código (até que seja válido). O programa será encerrado quando o\n",
        "código informado for o número 4, devendo então mostrar a mensagem \"MUITO OBRIGADO\", bem\n",
        "como as quantidades de cada combustível."
      ]
    },
    {
      "cell_type": "code",
      "execution_count": null,
      "metadata": {
        "id": "2WqP3tfOEPf0"
      },
      "outputs": [],
      "source": [
        "alcool = 0\n",
        "gasolina = 0\n",
        "diesel = 0\n",
        "\n",
        "codigo = int(input(\"Informe um codigo (1, 2, 3) ou 4 para parar: \"))\n",
        "\n",
        "while codigo != 4:\n",
        "  if codigo == 1:\n",
        "    alcool += 1\n",
        "  elif codigo == 2:\n",
        "    gasolina += 1\n",
        "  elif codigo == 3:\n",
        "    diesel += 1\n",
        "\n",
        "  codigo = int(input(\"Informe um codigo (1, 2, 3) ou 4 para parar: \")) \n",
        "\n",
        "print(\"MUITO OBRIGADO\")\n",
        "print(f'Alcool: {alcool}')\n",
        "print(f'Gasolina {gasolina}')\n",
        "print(f'Diesel {diesel}')"
      ]
    },
    {
      "cell_type": "markdown",
      "metadata": {
        "id": "UBgyVkhpSeSe"
      },
      "source": [
        "Problema \"pares_consecutivos\"\n",
        "\n",
        "O programa deve ler um valor inteiro X indefinidas vezes. (O programa irá parar quando o valor de X\n",
        "for igual a 0). Para cada X lido, imprima a soma dos 5 pares consecutivos a partir de X, inclusive o X,\n",
        "se for par. Se o valor de entrada for 4, por exemplo, a saída deve ser 40, que é o resultado da operação:\n",
        "4+6+8+10+12, enquanto que se o valor de entrada for 11, por exemplo, a saída deve ser 80, que é a\n",
        "soma de 12+14+16+18+20."
      ]
    },
    {
      "cell_type": "code",
      "execution_count": null,
      "metadata": {
        "id": "UYvI1r4LSevv"
      },
      "outputs": [],
      "source": [
        "x = int(input(\"Digite um numero inteiro: \"))\n",
        "soma = 0\n",
        "\n",
        "while x != 0:\n",
        "  if x % 2 == 0:\n",
        "    soma = (x + (x + 2) + (x + 4) + (x + 6) + (x + 8))\n",
        "    print(f'SOMA = {soma}')\n",
        "    x = int(input(\"Digite um numero inteiro: \"))\n",
        "  elif x % 2 != 0:\n",
        "    soma = ((x + 1) + (x + 3) + (x + 5) + (x + 7) + (x + 9))\n",
        "    print(f'SOMA = {soma}')\n",
        "    x = int(input(\"Digite um numero inteiro: \"))"
      ]
    },
    {
      "cell_type": "code",
      "execution_count": null,
      "metadata": {
        "id": "4kGA8aO3ZnUt"
      },
      "outputs": [],
      "source": [
        "x = int(input(\"Digite um numero inteiro: \"))\n",
        "soma = 0\n",
        "\n",
        "while x != 0:\n",
        "  if x % 2 != 0:\n",
        "    x = x + 1\n",
        "\n",
        "  soma = (5 * x) + 20\n",
        "  print(f'SOMA = {soma}')\n",
        "  x = int(input(\"Digite um numero inteiro: \"))"
      ]
    },
    {
      "cell_type": "markdown",
      "metadata": {
        "id": "SII4gy4REmnp"
      },
      "source": [
        "##Vetores"
      ]
    },
    {
      "cell_type": "code",
      "execution_count": null,
      "metadata": {
        "id": "NZY3H0DE4nlN"
      },
      "outputs": [],
      "source": [
        "n = int(input(\"Quantos números você vai digitar? \"))\n",
        "\n",
        "vet = []\n",
        "for i in range(0, n):\n",
        "   x = float(input(\"Digite um numero: \"))\n",
        "   vet.append(x)\n",
        "  \n",
        "print()\n",
        "print(\"NUMEROS DIGITADOS:\")\n",
        "for i in range(0, n):\n",
        "  print(f\"{vet[i]:.1f}\")\n"
      ]
    },
    {
      "cell_type": "markdown",
      "metadata": {
        "id": "2RV8jkZEErLS"
      },
      "source": [
        "Problema \"negativos\"\n",
        "\n",
        "Faça um programa que leia um número inteiro positivo N (máximo = 10) e depois N números inteiros\n",
        "e armazene-os em um vetor. Em seguida, mostrar na tela todos os números negativos lidos."
      ]
    },
    {
      "cell_type": "code",
      "execution_count": null,
      "metadata": {
        "id": "V-ibYLuDCytN"
      },
      "outputs": [],
      "source": [
        "n = int(input(\"Quantos numeros você vai digitar? \"))\n",
        "\n",
        "vet = []\n",
        "\n",
        "for i in range(0, n):\n",
        "  x = int(input(\"Digite um numero: \"))\n",
        "  vet.append(x)\n",
        "\n",
        "print()\n",
        "print(\"NUMEORS NEGATIVOS:\")\n",
        "for i in range(0, n):\n",
        "  if vet[i] < 0:\n",
        "    print(f\"{vet[i]}\")"
      ]
    },
    {
      "cell_type": "markdown",
      "metadata": {
        "id": "2lIhlut2P_7u"
      },
      "source": [
        "Problema \"soma_vetor\"\n",
        "\n",
        "Faça um programa que leia N números reais e armazene-os em um vetor. Em seguida:\n",
        "- Imprimir todos os elementos do vetor\n",
        "- Mostrar na tela a soma e a média dos elementos do vetor"
      ]
    },
    {
      "cell_type": "code",
      "execution_count": null,
      "metadata": {
        "id": "myojeEQFQBZk"
      },
      "outputs": [],
      "source": [
        "n = int(input(\"Quantos numeros você vai digitar? \"))\n",
        "\n",
        "vet = []\n",
        "\n",
        "for i in range(0, n):\n",
        "  x = float(input(\"Digite um numero: \"))\n",
        "  vet.append(x)\n",
        "\n",
        "soma = 0\n",
        "print()\n",
        "print(f\"VALORES = \", end= \" \")\n",
        "for i in range(0, n):\n",
        "  print(f\"{vet[i]}\", end= \" \")\n",
        "  soma = soma + vet[i]\n",
        "\n",
        "media = soma / n\n",
        "print(f\"\\nSOMA = {soma}\")\n",
        "print(f\"MEDIA = {media}\")\n",
        "\n"
      ]
    },
    {
      "cell_type": "markdown",
      "metadata": {
        "id": "HbWRrJ19V4I0"
      },
      "source": [
        "Problema \"alturas\"\n",
        "\n",
        "Fazer um programa para ler nome, idade e altura de N pessoas, conforme exemplo. Depois, mostrar na\n",
        "tela a altura média das pessoas, e mostrar também a porcentagem de pessoas com menos de 16 anos,\n",
        "bem como os nomes dessas pessoas caso houver."
      ]
    },
    {
      "cell_type": "code",
      "execution_count": null,
      "metadata": {
        "id": "ryzIrKQhTJKY"
      },
      "outputs": [],
      "source": [
        "n = int(input(\"Quantos pessoas serao digitadas? \"))\n",
        "\n",
        "nomes = []\n",
        "idades = []\n",
        "alturas = []\n",
        "\n",
        "for i in range(0, n):\n",
        "  print(f\"Dados da {i+1}a pessoa:\")\n",
        "  nome = input(\"Nome: \")\n",
        "  nomes.append(nome)\n",
        "  idade = int(input(\"Idade: \"))\n",
        "  idades.append(idade)\n",
        "  altura = float(input(\"Altura: \"))\n",
        "  alturas.append(altura)\n",
        "\n",
        "idadeMenor = 0\n",
        "soma = 0\n",
        "for i in range(0, n):\n",
        "  soma = soma + alturas[i]\n",
        "  if idades[i] < 16:\n",
        "    idadeMenor = idadeMenor + 1\n",
        "    percent = (idadeMenor / n) * 100\n",
        "\n",
        "\n",
        "mediaAlturas = soma / n\n",
        "\n",
        "print()\n",
        "print(f\"Altura Média: {mediaAlturas}\")\n",
        "print(f\"Pessoas com menos de 16 anos: {percent}%\")\n",
        "for i in range(0, n):\n",
        "  if idades[i] < 16:\n",
        "    print(nomes[i])\n"
      ]
    },
    {
      "cell_type": "markdown",
      "metadata": {
        "id": "NB0Ulz9HD4fI"
      },
      "source": [
        "Problema \"numeros_pares\"\n",
        "\n",
        "Faça um programa que leia N números inteiros e armazene-os em um vetor. Em seguida, mostre na\n",
        "tela todos os números pares, e também a quantidade de números pares."
      ]
    },
    {
      "cell_type": "code",
      "execution_count": null,
      "metadata": {
        "id": "PnCc2ROljbgi"
      },
      "outputs": [],
      "source": [
        "n = int(input(\"Quantos numeros você vai digitar? \"))\n",
        "\n",
        "listaPares = []\n",
        "contPares = 0\n",
        "\n",
        "for i in range(0, n):\n",
        "  x = int(input(\"Digite um numero: \"))\n",
        "  if x % 2 == 0:\n",
        "    listaPares.append(x)\n",
        "    listaPares.sort()\n",
        "    contPares += 1\n",
        "\n",
        "print()\n",
        "print(\"NUMEROS PARES\")\n",
        "for i in listaPares:\n",
        "  print(i, end=\" \")\n",
        "print(\"\\n\")\n",
        "print(f\"QUANTIDADE DE PARES = {contPares}\")"
      ]
    },
    {
      "cell_type": "markdown",
      "metadata": {
        "id": "AXOMdzA7MRdN"
      },
      "source": [
        "Problema \"maior_posicao\"\n",
        "\n",
        "Faça um programa que leia N números reais e armazene-os em um vetor. Em seguida, mostrar na tela\n",
        "o maior número do vetor (supor não haver empates). Mostrar também a posição do maior elemento,\n",
        "considerando a primeira posição como 0 (zero)."
      ]
    },
    {
      "cell_type": "code",
      "execution_count": null,
      "metadata": {
        "id": "0OANREuSMR7F"
      },
      "outputs": [],
      "source": [
        "n = int(input(\"Quantos numeros você vai digitar? \"))\n",
        "\n",
        "lista = []\n",
        "maior = 0\n",
        "posicao = 0\n",
        "\n",
        "for i in range(0, n):\n",
        "  x = float(input(\"Digite um numero: \"))\n",
        "  lista.append(x)\n",
        "  if x > maior:\n",
        "    maior = x\n",
        "    posicao = i\n",
        "\n",
        "print() \n",
        "print(f\"MAIOR VALOR = {maior}\")\n",
        "print(f\"POSIÇÃO DO MAIOR VALOR = {posicao}\")"
      ]
    },
    {
      "cell_type": "markdown",
      "metadata": {
        "id": "zpBO1RJBcb_w"
      },
      "source": [
        "Problema \"soma_vetores\"\n",
        "\n",
        "Faça um programa para ler dois vetores A e B, contendo N elementos cada. Em seguida, gere um\n",
        "terceiro vetor C onde cada elemento de C é a soma dos elementos correspondentes de A e B. Imprima\n",
        "o vetor C gerado."
      ]
    },
    {
      "cell_type": "code",
      "execution_count": null,
      "metadata": {
        "id": "vQYM5X2mccPQ"
      },
      "outputs": [],
      "source": [
        "n = int(input(\"Quantos valores vai ter cada vetor? \"))\n",
        "\n",
        "a = []\n",
        "b = []\n",
        "c = []\n",
        "\n",
        "print(\"Digite os valores do Vetor A:\")\n",
        "for i in range(0, n):\n",
        "  x = int(input())\n",
        "  a.append(x)\n",
        "\n",
        "print(\"Digite os valores do Vetor B:\")\n",
        "for i in range(0, n):\n",
        "  x = int(input())\n",
        "  b.append(x)\n",
        "\n",
        "print(\"VALOR RESULTANTE:\")\n",
        "for i in range(0, n):\n",
        "  soma = a[i] + b[i]\n",
        "  print(soma)"
      ]
    },
    {
      "cell_type": "markdown",
      "metadata": {
        "id": "GIsc9ONrpiGD"
      },
      "source": [
        "Problema \"abaixo_da_media\"\n",
        "\n",
        "Fazer um programa para ler um número inteiro N e depois um vetor de N números reais. Em seguida,\n",
        "mostrar na tela a média aritmética de todos elementos com três casas decimais. Depois mostrar todos\n",
        "os elementos do vetor que estejam abaixo da média, com uma casa decimal cada."
      ]
    },
    {
      "cell_type": "code",
      "execution_count": null,
      "metadata": {
        "id": "mGv8SX__pjR7"
      },
      "outputs": [],
      "source": [
        "n = int(input(\"Quantos elementos vai ter o vetor? \"))\n",
        "\n",
        "vetor = []\n",
        "soma = 0\n",
        "\n",
        "for i in range(0, n):\n",
        "  elemento = float(input(\"Digite um numero: \"))\n",
        "  vetor.append(elemento)\n",
        "  soma = soma + elemento\n",
        "\n",
        "mediaV = soma / n\n",
        "\n",
        "print()\n",
        "print(f\"MEDIA DO VETOR = {mediaV}\")\n",
        "print(\"ELEMENTOS ABAIXO DA MÉDIA:\")\n",
        "for i in range(0, n):\n",
        "  if (vetor[i] < mediaV):\n",
        "    print(vetor[i])\n"
      ]
    },
    {
      "cell_type": "markdown",
      "metadata": {
        "id": "p7BDKfJtacVk"
      },
      "source": [
        "Desafio 4 DEVSUPERIOR - Concurso"
      ]
    },
    {
      "cell_type": "code",
      "execution_count": null,
      "metadata": {
        "id": "sca0mFOmVcWF"
      },
      "outputs": [],
      "source": [
        "n = int(input(\"Qual a quantidade de pessoas? \"))\n",
        "\n",
        "candidatos = []\n",
        "notas1 = []\n",
        "notas2 = []\n",
        "medias = []\n",
        "\n",
        "for i in range(0, n):\n",
        "  print(f\"Digite os dados da {i+1}a pessoa:\")\n",
        "  nome = input(\"Nome: \")\n",
        "  candidatos.append(nome)\n",
        "  nota1 = float(input(\"Nota etapa 1: \"))\n",
        "  notas1.append(nota1)\n",
        "  nota2 = float(input(\"Nota etapa 2: \"))\n",
        "  notas2.append(nota2)\n",
        "\n",
        "for i in range(0, n):\n",
        "  mediaNotas = (notas1[i] + notas2[i]) / 2\n",
        "  medias.append(mediaNotas)\n",
        "\n",
        "print()\n",
        "print(\"TABELA:\")\n",
        "for i in range(0, n):\n",
        "  print(f\"{candidatos[i]}, {notas1[i]}, {notas2[i]}, MEDIA = {medias[i]:.2f}\")\n",
        "\n",
        "print()\n",
        "print(\"PESSOAS APROVADAS:\")\n",
        "\n",
        "contAprovadosados = 0\n",
        "maiorMedia = 0\n",
        "mediaAprovados = []\n",
        "\n",
        "for i in range(0, n):\n",
        "  if medias[i] >= 70:\n",
        "    print(candidatos[i])\n",
        "    mediaAprovados.append(medias[i])\n",
        "    contAprovadosados += 1\n",
        "\n",
        "for i in range(0, n):\n",
        "  if medias[i] > maiorMedia:\n",
        "    maiorMedia = medias[i]\n",
        "    maiorMediaNome = candidatos[i]\n",
        "    \n",
        "percentAprovados = (contAprovados / n) * 100\n",
        "\n",
        "print()\n",
        "print(f\"Porcentagem de aprovação: {percentAprovados} %\")\n",
        "print(f\"Maior média: {maiorMediaNome}\")\n",
        "\n",
        "somaMediaAprovados = 0\n",
        "contNotasAprovados = 0\n",
        "for i in mediaAprovados:\n",
        "  somaMediaAprovados += i\n",
        "  contNotasAprovados += 1\n",
        "\n",
        "\n",
        "if contAprovados == 0:\n",
        "  print(\"Não há candidatos aprovados\")\n",
        "else:\n",
        "  notaMediaAprovados = somaMediaAprovados / contNotasAprovados\n",
        "  print(f\"Nota média dos aprovados: {notaMediaAP:.2f}\")"
      ]
    },
    {
      "cell_type": "markdown",
      "metadata": {
        "id": "WTzgOnlUUAU2"
      },
      "source": [
        "## Matrizes"
      ]
    },
    {
      "cell_type": "markdown",
      "metadata": {
        "id": "jqgGogKBUSk-"
      },
      "source": [
        "Problema \"diagonal_negativos\"\n",
        "\n",
        "Fazer um programa para ler um número inteiro N (máximo = 10) e uma matriz quadrada de ordem N\n",
        "contendo números inteiros. Em seguida, mostrar a diagonal principal e a quantidade de valores\n",
        "negativos da matriz."
      ]
    },
    {
      "cell_type": "code",
      "execution_count": null,
      "metadata": {
        "id": "X8qT3RQjMm7Y"
      },
      "outputs": [],
      "source": [
        "n = int(input(\"Qual a ordem da matriz? \"))\n",
        "\n",
        "mat = [[0 for x in range(n)]for x in range(n)]\n",
        "\n",
        "for i in range(0, n):\n",
        "  for j in range(0, n):\n",
        "    mat[i][j] = int(input(f\"Elemento [{i},{j}]: \"))\n",
        "\n",
        "print(\"DIAGONAL PRINCIPAL:\")\n",
        "for i in range(0, n):\n",
        "    print(f\"{mat[i][i]}\", end=\" \")\n",
        "print()\n",
        "\n",
        "cont = 0\n",
        "for i in range(0, n):\n",
        "  for j in range(0, n):\n",
        "    if mat[i][j] < 0:\n",
        "      cont = cont + 1\n",
        "\n",
        "print(f\"QUANTIDADE DE NEGATIVOS = {cont}\")"
      ]
    },
    {
      "cell_type": "markdown",
      "metadata": {
        "id": "H3JwcBVEXZ_2"
      },
      "source": [
        "Problema \"soma_linhas\"\n",
        "\n",
        "Fazer um programa para ler dois números inteiros M e N (máximo = 10). Em seguida, ler uma matriz\n",
        "de M linhas e N colunas contendo números reais. Gerar um vetor de modo que cada elemento do vetor\n",
        "seja a soma dos elementos da linha correspondente da matriz. Mostrar o vetor gerado."
      ]
    },
    {
      "cell_type": "code",
      "execution_count": null,
      "metadata": {
        "id": "qTKxF9XmWYav"
      },
      "outputs": [],
      "source": [
        "m = int(input(\"Qual a quantidade de linhas da matriz? \"))\n",
        "n = int(input(\"Qual a quantidade de colunas da matriz? \"))\n",
        "\n",
        "mat = [[0 for x in range(n)] for x in range(m)]\n",
        "vet = [0 for x in range(m)]\n",
        "\n",
        "for i in range(m):\n",
        "  print(f\"Digite os elementos da {i + 1}a linha:\")\n",
        "  for j in range(n):\n",
        "    mat[i][j] = float(input())\n",
        "\n",
        "\n",
        "for i in range(m):\n",
        "  somalinha = 0\n",
        "\n",
        "  for j in range(n):\n",
        "    somalinha = somalinha + mat[i][j]\n",
        "  vet[i] = somalinha\n",
        "\n",
        "print(\"VETOR GERADO:\")\n",
        "for i in range(m):\n",
        "  print(vet[i])"
      ]
    },
    {
      "cell_type": "markdown",
      "metadata": {
        "id": "jTZaG2iuEtj1"
      },
      "source": [
        "Problema \"negativos_matriz\" \n",
        "\n",
        "Ler dois números M e N (máximo = 10), e depois ler uma matriz MxN de números inteiros, conforme \n",
        "exemplo. Em seguida, mostrar na tela somente os números negativos da matriz"
      ]
    },
    {
      "cell_type": "code",
      "execution_count": null,
      "metadata": {
        "id": "K1HCszMbEv6e"
      },
      "outputs": [],
      "source": [
        "m = int(input(\"Qual a quantidade de linhas da matriz? \"))\n",
        "n = int(input(\"Qual a quantidade de colunas da matriz? \"))\n",
        "\n",
        "matriz = [[0 for x in range(n)] for x in range(m)]\n",
        "\n",
        "for i in range(m):\n",
        "  for j in range(n):\n",
        "    matriz[i][j] = int(input(f\"Elemento [{i},{j}]: \"))\n",
        "\n",
        "print(\"VALORES NEGATIVOS:\")\n",
        "for i in range(m):\n",
        "  for j in range(n):\n",
        "    if matriz[i][j] < 0:\n",
        "      print(matriz[i][j])"
      ]
    },
    {
      "cell_type": "markdown",
      "metadata": {
        "id": "YfOLlRaRINSL"
      },
      "source": [
        "Problema \"cada_linha\" \n",
        "\n",
        "Ler um inteiro N e uma matriz quadrada de ordem N (máximo = 10). Mostrar qual o maior elemento \n",
        "de cada linha. Suponha não haver empates. \n"
      ]
    },
    {
      "cell_type": "code",
      "execution_count": null,
      "metadata": {
        "id": "fAHhR_OuINsS"
      },
      "outputs": [],
      "source": [
        "n = int(input(\"Qual a ordem da matriz? \"))\n",
        "\n",
        "matriz = [[0 for x in range(n)] for x in range(n)]\n",
        "maiorlinha = []\n",
        "\n",
        "for i in range(n):\n",
        "  for j in range(n):\n",
        "    matriz[i][j] = int(input(f\"Elemento [{i},{j}]: \"))\n",
        "\n",
        "for i in range(n):\n",
        "  maior = matriz[i][0]\n",
        "  for j in range(1, n):\n",
        "    if maior < matriz[i][j]:\n",
        "      maior = matriz[i][j]\n",
        "  maiorlinha.append(maior)\n",
        "\n",
        "print(\"MAIOR ELEMENTO DE CADA LINHA:\")\n",
        "for i in range(n):\n",
        "  print(maiorlinha[i])"
      ]
    },
    {
      "cell_type": "markdown",
      "metadata": {
        "id": "7Rv-NB_mS19m"
      },
      "source": [
        "## Funções"
      ]
    },
    {
      "cell_type": "markdown",
      "metadata": {
        "id": "jDEMb0qNTYBP"
      },
      "source": [
        "Fazer um programa para ler três números inteiros, e mostrar o menor dentre eles."
      ]
    },
    {
      "cell_type": "code",
      "execution_count": null,
      "metadata": {
        "id": "11EL-PO8S3U5"
      },
      "outputs": [],
      "source": [
        "def menorDeTres(a, b, c):\n",
        "  if (a < b) and (a < c):\n",
        "    return a\n",
        "  elif (b < c):\n",
        "    return b\n",
        "  else:\n",
        "    return c\n",
        "\n",
        "print(\"Digite tres numeros inteiros:\")\n",
        "n1 = int(input())\n",
        "n2 = int(input())\n",
        "n3 = int(input())\n",
        "\n",
        "print(f\"MENOR = {menorDeTres(n1, n2, n3)}\")"
      ]
    },
    {
      "cell_type": "markdown",
      "metadata": {
        "id": "mj5Hy64lT-K7"
      },
      "source": [
        "Fazer um programa para ler cinco números inteiros, e mostrar o menor dentre eles."
      ]
    },
    {
      "cell_type": "code",
      "execution_count": null,
      "metadata": {
        "id": "ISM-R4RLT9ws"
      },
      "outputs": [],
      "source": [
        "def menorDeTres(a, b, c, ):\n",
        "  if (a < b) and (a < c):\n",
        "    return a\n",
        "  elif (b < c):\n",
        "    return b\n",
        "  else:\n",
        "    return c\n",
        "\n",
        "print(\"Digite tres numeros inteiros:\")\n",
        "n1 = int(input())\n",
        "n2 = int(input())\n",
        "n3 = int(input())\n",
        "n4 = int(input())\n",
        "n5 = int(input())\n",
        "\n",
        "aux = menorDeTres(n1, n2, n3)\n",
        "menor = menorDeTres(aux, n4, n5)\n",
        "\n",
        "print(f\"MENOR = {menor}\")"
      ]
    },
    {
      "cell_type": "markdown",
      "metadata": {
        "id": "NGk4v286aTdw"
      },
      "source": [
        "Problema \"imc\"\n",
        "\n",
        "Fazer um programa para ler o peso e altura de uma pessoa. Em seguida, mostrar o valor do Índice de\n",
        "Massa Corporal (IMC) dessa pessoa. \n",
        "\n",
        "Fórmula: IMC = PESO / ALTURA²\n",
        "\n",
        "\n",
        "Crie a seguinte função:\n",
        "\n",
        "// Parametros:\n",
        "\n",
        "// peso: peso da pessoa\n",
        "\n",
        "// altura: altura da pessoa\n",
        "\n",
        "// Efeito: retorna o valor da IMC da pessoa"
      ]
    },
    {
      "cell_type": "code",
      "execution_count": null,
      "metadata": {
        "id": "T2Se3JGQaT5Q"
      },
      "outputs": [],
      "source": [
        "def imc(peso, altura):\n",
        "  return peso / (altura ** 2)\n",
        "\n",
        "\n",
        "p = float(input(\"Digite o peso: \"))\n",
        "a = float(input(\"Digite a altura: \"))\n",
        "\n",
        "imc = imc(p, a)\n",
        "print(f\"IMC = {imc:.2f}\")"
      ]
    },
    {
      "cell_type": "markdown",
      "metadata": {
        "id": "i3_yKo2Vcq_g"
      },
      "source": [
        "Problema \"temperatura\"\n",
        "\n",
        "Fazer um programa que solicite um valor de temperatura medidaem Fahrenheit. Em seguida, mostrar\n",
        "na tela a temperatura convertida para Celsius.\n",
        "\n",
        "Formula: C = (5/9)*(F-32)"
      ]
    },
    {
      "cell_type": "code",
      "execution_count": null,
      "metadata": {
        "colab": {
          "base_uri": "https://localhost:8080/"
        },
        "id": "8MvfY2IDcrme",
        "outputId": "d7db5296-61c8-44b2-f250-592b9c755cbf"
      },
      "outputs": [
        {
          "name": "stdout",
          "output_type": "stream",
          "text": [
            "Digite a temperatura em Fahrenheit: 75.0\n",
            "Temperatura em Celsius = 23.89°C\n"
          ]
        }
      ],
      "source": [
        "def fParaCelsius(f):\n",
        "  c = (5 / 9)*(f - 32)\n",
        "  return c\n",
        "\n",
        "tempF = float(input(\"Digite a temperatura em Fahrenheit: \"))\n",
        "tempC = fParaCelsius(tempF)\n",
        "\n",
        "print(f\"Temperatura em Celsius = {tempC:.2f}°C\")"
      ]
    },
    {
      "cell_type": "markdown",
      "metadata": {
        "id": "BTJU7SUYeewx"
      },
      "source": [
        "Problema \"financiamento\"\n",
        "\n",
        "Fazer um programa para ler os dados de um financiamento de imóvel (valor do imóvel, valor de\n",
        "entrada, número de prestações financiadas). Em seguida, mostrar na tela o valor de cada prestação, sem\n",
        "considerar juros."
      ]
    },
    {
      "cell_type": "code",
      "execution_count": null,
      "metadata": {
        "id": "DuGlETGHfUeL"
      },
      "outputs": [],
      "source": [
        "def prestacao(total, entrada, meses):\n",
        "  vPrestacao = (total - entrada) / meses\n",
        "  return vPrestacao\n",
        "\n",
        "\n",
        "vTotal = float(input(\"Valor total do imovel: \"))\n",
        "vEntrada = float(input(\"Valor pago na entrada: \"))\n",
        "qMeses = float(input(\"Será financiado em quantos meses? \"))\n",
        "print(f\"Valor de cada pretacao: R$ {prestacao(vTotal, vEntrada, qMeses):.2f}\")"
      ]
    },
    {
      "cell_type": "markdown",
      "metadata": {
        "id": "ULf8_F5jhGAE"
      },
      "source": [
        "Problema \"cambio\"\n",
        "Fazer um programa que faça a leitura do preço do dólar e, em seguida, peça para o usuário digitar uma\n",
        "quantidade de dinheiro em reais e mostre na tela quantos dólares é possível comprar com a quantidade\n",
        "de reais informada."
      ]
    },
    {
      "cell_type": "code",
      "execution_count": null,
      "metadata": {
        "id": "J2pP0oANhGSF"
      },
      "outputs": [],
      "source": [
        "def realDolar(quantia, cotacao):\n",
        "  return quantia / cotacao\n",
        "\n",
        "cotDolar = float(input(\"Digite a cotação do dolar: \"))\n",
        "qReal = float(input(\"Digite a quantia em real: \"))\n",
        "print(f\"Você pode comprar {realDolar(qReal, cotDolar):.2f} dolares com esta quantia\")"
      ]
    },
    {
      "cell_type": "markdown",
      "metadata": {
        "id": "dkQwOtdklg6C"
      },
      "source": [
        "Problema \"retangulo\"\n",
        "\n",
        "Fazer um programa para leras medidas (base e altura) de um retângulo. Em seguida, mostrar na tela os\n",
        "valores da diagonal, da área e do perímetro do retângulo. Crie funções para resolver o problema."
      ]
    },
    {
      "cell_type": "code",
      "execution_count": null,
      "metadata": {
        "id": "6ecGHTOIhHS9"
      },
      "outputs": [],
      "source": [
        "def area(b, h):\n",
        "  return b * h\n",
        "\n",
        "def perimetro(b, h):\n",
        "  return (b + h) * 2\n",
        "\n",
        "def diagonal(b, h):\n",
        "  return ((b ** 2) + (h ** 2)) ** 0.5\n",
        "\n",
        "base = float(input(\"Digite o valor da base do retangulo: \"))\n",
        "altura = float(input(\"Digite o valor da altura do retangulo: \"))\n",
        "\n",
        "print(f\"Diagonal = {diagonal(base, altura)}\")\n",
        "print(f\"Area = {area(base, altura)}\")\n",
        "print(f\"Perimetro = {perimetro(base, altura)}\")"
      ]
    },
    {
      "cell_type": "markdown",
      "metadata": {
        "id": "pUhDwBzdpDEX"
      },
      "source": [
        "Problema \"glicose\"\n",
        "\n",
        "Fazer um programa para ler a quantidade de glicose no\n",
        "sangue de uma pessoa e depois mostrar na tela a\n",
        "classificação desta glicose de acordo com a tabela de\n",
        "referência ao lado.\n",
        "\n",
        "Classificação Glicose\n",
        "\n",
        "Normal - Até 100 mg/dl\n",
        "\n",
        "Elevado - Maior que 100 até 140 mg/dl\n",
        "\n",
        "Diabetes - Maior de 140 mg/dl"
      ]
    },
    {
      "cell_type": "code",
      "execution_count": null,
      "metadata": {
        "id": "zxHTRjFBpDfX"
      },
      "outputs": [],
      "source": [
        "def mostrarGlicose(medida):\n",
        "  if (medida <= 100):\n",
        "    print(\"Classificação: Normal\")\n",
        "  elif (medida > 100) and (medida <= 140):\n",
        "    print(\"Classificação: Elevado\")\n",
        "  else:\n",
        "    print(\"Classificação: Diabetes\")\n",
        "\n",
        "glicose = float(input(\"Digite o valor da glicose: \"))\n",
        "mostrarGlicose(glicose)\n"
      ]
    },
    {
      "cell_type": "markdown",
      "metadata": {
        "id": "zUBRDrbduFed"
      },
      "source": [
        "Problema \"tabuada\"\n",
        "Fazer um programa para imprimir na tela a tabuada de multiplicação de 1 a 10 de um certo número N\n",
        "fornecido pelo usuário."
      ]
    },
    {
      "cell_type": "code",
      "execution_count": null,
      "metadata": {
        "id": "VOaIHHWguFpc"
      },
      "outputs": [],
      "source": [
        "def mostrarTabuada(n):\n",
        "  for i in range(1, 11):\n",
        "    print(f\"{n} x {i} = {n * i}\")\n",
        "\n",
        "\n",
        "tabuada = int(input(\"Você quer a tabuada de qual número? \"))\n",
        "mostrarTabuada(tabuada)"
      ]
    },
    {
      "cell_type": "markdown",
      "metadata": {
        "id": "kRL6R7Lfw7WJ"
      },
      "source": [
        "Problema \"exame\"\n",
        "\n",
        "Fazer um programa para ler os dados do resultado de um exame de sangue (glicose, triglicerídeos e\n",
        "colesterol). Em seguida, mostrar na tela um relatório com as classificações para este exame de acordo\n",
        "com as tabelas de referência abaixo."
      ]
    },
    {
      "cell_type": "code",
      "execution_count": null,
      "metadata": {
        "id": "AWYH5QzLw9bA"
      },
      "outputs": [],
      "source": [
        "def mostrarGlicose(medida):\n",
        "  if (medida <= 100):\n",
        "    print(\"Classificação: Normal\")\n",
        "  elif (medida > 100) and (medida <= 140):\n",
        "    print(\"Classificação: Elevado\")\n",
        "  else:\n",
        "    print(\"Classificação: Diabetes\")\n",
        "\n",
        "def mostrarTriglic(medida):\n",
        "  if (medida <= 200):\n",
        "    print(\"Classificação: Desejável\")\n",
        "  else:\n",
        "    print(\"Classificação: Aumentado\")\n",
        "\n",
        "def mostrarColesterol(medida):\n",
        "  if (medida <= 200):\n",
        "    print(\"Classificação: Desejável\")\n",
        "  elif (medida > 200) and (medida <= 240):\n",
        "    print(\"Classificação: Limiar\")\n",
        "  else:\n",
        "    print(\"Classificação: Elevado\")\n",
        "\n",
        "glicose = float(input(\"Medida de Glicose: \"))\n",
        "mostrarGlicose(glicose)\n",
        "triglic = float(input(\"Medida de Triglicerídeos: \"))\n",
        "mostrarTriglic(triglic)\n",
        "colesterol = float(input(\"Medida de Colesterol: \"))\n",
        "mostrarColesterol(colesterol)"
      ]
    },
    {
      "cell_type": "markdown",
      "metadata": {
        "id": "ECVNKbL362Ky"
      },
      "source": [
        "Problema \"classificar_imc\"\n",
        "\n",
        "Fazer um programa para classificar o peso de uma pessoa, dados seu peso e altura. A classificação é\n",
        "baseada no IMC (Índice de Massa Corporal) e as faixas de classificação são dadas abaixo:\n",
        "\n",
        "abaixo de 20 - “abaixo do peso”\n",
        "\n",
        "20 até 25 exclusive - “peso normal\n",
        "\n",
        "25 até 30 exclusive - “sobre peso”\n",
        "\n",
        "30 em diante - “obeso”"
      ]
    },
    {
      "cell_type": "code",
      "execution_count": null,
      "metadata": {
        "id": "aT3e4idZ62i6"
      },
      "outputs": [],
      "source": [
        "def imc(p, a):\n",
        "  IMC = p / (a ** 2)\n",
        "\n",
        "  if (IMC < 20):\n",
        "    print(\"Resultado do IMC: Abaixo do peso\")\n",
        "  elif (IMC >= 20) and (IMC < 25):\n",
        "    print(\"Resultado do IMC: Peso Normal\")\n",
        "  elif (IMC >= 25) and (IMC < 30):\n",
        "    print(\"Resultado do IMC: Sobre peso\")\n",
        "  else:\n",
        "    print(\"Resultado do IMC: Obeso\")\n",
        "\n",
        "peso = float(input(\"Digite o peso: \"))\n",
        "altura = float(input(\"Digite a altura: \"))\n",
        "imc(peso, altura)\n"
      ]
    },
    {
      "cell_type": "markdown",
      "metadata": {
        "id": "M4Qe0xnmCd4T"
      },
      "source": [
        "Problema \"salario_liquido\"\n",
        "\n",
        "Fazer um programa onde o usuário informa o valor bruto de um salário, e o programa informa qual o\n",
        "valor do salário líquido, já descontando impostos e previdência. As regras são as seguintes:"
      ]
    },
    {
      "cell_type": "code",
      "execution_count": null,
      "metadata": {
        "id": "8RD6khqLCeaD"
      },
      "outputs": [],
      "source": [
        "def imposto(quantia):\n",
        "  if quantia <= 4000:\n",
        "    return quantia * 0.2\n",
        "  else:\n",
        "    return quantia * 0.25\n",
        "\n",
        "def previdencia(quantia):\n",
        "  if quantia <= 1500:\n",
        "    return quantia * 0.1\n",
        "  else:\n",
        "    return quantia * 0.15\n",
        "\n",
        "def salarioLiquido(quantia):\n",
        "  return quantia - imposto(quantia) - previdencia(quantia)\n",
        "\n",
        "salarioBruto = float(input(\"Digite o valor do salário bruto: \"))\n",
        "print(f\"Salario Liquido = R$ {salarioLiquido(salarioBruto):.2f}\")"
      ]
    },
    {
      "cell_type": "markdown",
      "metadata": {
        "id": "X8Yo0QhlNXuM"
      },
      "source": [
        "## Desafio 6 Dev Superior - Contribuintes"
      ]
    },
    {
      "cell_type": "code",
      "execution_count": null,
      "metadata": {
        "id": "ZZQe2ofUNgs0"
      },
      "outputs": [],
      "source": [
        "def impostoSobreSalario(valor):\n",
        "  if valor < 3000 * 12:\n",
        "    return 0\n",
        "  elif (valor >= 3000 * 12) and (valor < 5000 * 12):\n",
        "    return valor * 0.1\n",
        "  else:\n",
        "    return valor * 0.2\n",
        "\n",
        "def impostoSobreServico(valor):\n",
        "  if valor > 0:\n",
        "    return valor * 0.15\n",
        "  else:\n",
        "    return 0\n",
        "\n",
        "def impostosobreGC(valor):\n",
        "  if valor > 0:\n",
        "    return valor * 0.2\n",
        "  else:\n",
        "    return 0\n",
        "\n",
        "def impostoBrutoTotal(salario, servico, gc):\n",
        "  return impostoSobreSalario(salario) + impostoSobreServico(servico) + impostosobreGC(gc)\n",
        "\n",
        "def abatimento(salario, servico, gc, gastosMedicos, gastosEducacionais):\n",
        "  gastosDedutiveis = gastosMedicos + gastosEducacionais\n",
        "  maximoDedutivel = impostoBrutoTotal(salario, servico, gc) * 0.3\n",
        "\n",
        "  if (gastosDedutiveis > maximoDedutivel):\n",
        "    return maximoDedutivel\n",
        "  else:\n",
        "    return gastosDedutiveis\n",
        "\n",
        "\n",
        "\n",
        "print(\"Digite os dados do contribuinte:\")\n",
        "salario = float(input(\"Renda anual com salario: \"))\n",
        "servico = float(input(\"Renda anual com prestação de serviço: \"))\n",
        "gc = float(input(\"Renda anual com ganho de capital: \"))\n",
        "gastosMedicos = float(input(\"Gastos médicos: \"))\n",
        "gastosEducacionais = float(input(\"Gastos educacionais: \"))\n",
        "\n",
        "print()\n",
        "print(\"RELATÓRIO:\")\n",
        "print(f\"Imposto sobre salário: R$ {impostoSobreSalario(salario):.2f}\")\n",
        "print(f\"Imposto sobre serviços: R$ {impostoSobreServico(servico):.2f}\")\n",
        "print(f\"Imposto sobre ganho de capital: R$ {impostosobreGC(gc):.2f}\")\n",
        "print(f\"Imposto bruto total: R$ {impostoBrutoTotal(salario, servico, gc):.2f}\")\n",
        "print(f\"Abatimento: R$ {abatimento(salario, servico, gc, gastosMedicos, gastosEducacionais):.2f}\")\n",
        "\n",
        "impostoDevido = impostoBrutoTotal(salario, servico, gc) - abatimento(salario, servico, gc, gastosMedicos, gastosEducacionais)\n",
        "print(f\"Imposto devido: R$ {impostoDevido:.2f}\")"
      ]
    }
  ],
  "metadata": {
    "colab": {
      "collapsed_sections": [],
      "name": "Exercicios Dev Superior.ipynb",
      "provenance": []
    },
    "kernelspec": {
      "display_name": "Python 3.10.4 64-bit",
      "language": "python",
      "name": "python3"
    },
    "language_info": {
      "codemirror_mode": {
        "name": "ipython",
        "version": 3
      },
      "file_extension": ".py",
      "mimetype": "text/x-python",
      "name": "python",
      "nbconvert_exporter": "python",
      "pygments_lexer": "ipython3",
      "version": "3.10.4"
    },
    "vscode": {
      "interpreter": {
        "hash": "11996c5f8e5c9b62cd5364d0aa9a3b1abb6837ce14ff8b83985f445990e6de8c"
      }
    }
  },
  "nbformat": 4,
  "nbformat_minor": 0
}
